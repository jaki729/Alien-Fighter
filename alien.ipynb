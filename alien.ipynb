{
 "cells": [
  {
   "cell_type": "code",
   "execution_count": null,
   "metadata": {},
   "outputs": [],
   "source": [
    "import pygame\n",
    "\n",
    "from pygame.sprite import Sprite\n",
    "\n",
    "\n",
    "class Alien(Sprite):\n",
    "    \"\"\"A class to represent a single alien in the fleet.\"\"\"\n",
    "\n",
    "    def __init__(self, ai_settings, screen):\n",
    "        \"\"\"Initialize the alien and set its starting position.\"\"\"\n",
    "        super().__init__()\n",
    "        self.screen = screen\n",
    "        self.ai_settings = ai_settings\n",
    "\n",
    "        # Load the alien image and set its rect attribute.\n",
    "        self.image = pygame.image.load_basic('images/alien.bmp')\n",
    "        self.rect = self.image.get_rect()\n",
    "\n",
    "        # Start each new alien near the top left of the screen.\n",
    "        self.rect.x = self.rect.width\n",
    "        self.rect.y = self.rect.height\n",
    "\n",
    "        # Store the alien's exact position.\n",
    "        self.x = float(self.rect.x)\n",
    "\n",
    "    def blitme(self):\n",
    "        \"\"\"Draw the alien at its current location.\"\"\"\n",
    "        self.screen.blit(self.image, self.rect)\n",
    "\n",
    "    def update(self):\n",
    "        \"\"\"Move the alien right or left.\"\"\"\n",
    "        self.x += (self.ai_settings.alien_speed_factor *\n",
    "                   self.ai_settings.fleet_direction)\n",
    "        self.rect.x = self.x\n",
    "\n",
    "    def check_edges(self):\n",
    "        \"\"\"Return True if alien is at edge of screen.\"\"\"\n",
    "        screen_rect = self.screen.get_rect()\n",
    "        if self.rect.right >= screen_rect.right:\n",
    "            return True\n",
    "        elif self.rect.left <= 0:\n",
    "            return True"
   ]
  }
 ],
 "metadata": {
  "kernelspec": {
   "display_name": "Python 3",
   "language": "python",
   "name": "python3"
  },
  "language_info": {
   "codemirror_mode": {
    "name": "ipython",
    "version": 3
   },
   "file_extension": ".py",
   "mimetype": "text/x-python",
   "name": "python",
   "nbconvert_exporter": "python",
   "pygments_lexer": "ipython3",
   "version": "3.8.3"
  }
 },
 "nbformat": 4,
 "nbformat_minor": 4
}
